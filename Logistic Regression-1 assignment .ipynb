{
 "cells": [
  {
   "cell_type": "markdown",
   "id": "94127b03-ede7-4573-9473-5683b571bae1",
   "metadata": {},
   "source": [
    "Q1. Explain the difference between linear regression and logistic regression models. Provide an example of\n",
    "a scenario where logistic regression would be more appropriate."
   ]
  },
  {
   "cell_type": "markdown",
   "id": "abe21638-c422-4935-bd1e-c5236fb0c07c",
   "metadata": {},
   "source": [
    "linear regression is used to predict continuous dependent output using independent variables , where as  logistic regression is used to predict categorical dependent output using independent variables.\n",
    "\n",
    "__EXAMPLE__ \n",
    "- Predict whether or not a customer will default on a loan.\n",
    "- Predict whether or not a patient will have a heart attack.\n",
    "- Predict whether or not an email is a spam.\n",
    "- Predict whether or not a student will pass/fail an exam"
   ]
  },
  {
   "cell_type": "markdown",
   "id": "8998b7c4-0156-432a-bcfc-c12e2fba283f",
   "metadata": {},
   "source": [
    "Q2. What is the cost function used in logistic regression, and how is it optimized?"
   ]
  },
  {
   "cell_type": "markdown",
   "id": "88780dca-4349-456d-afb3-2ea18d7a925e",
   "metadata": {},
   "source": [
    "logistic regression cost function is the negative log-likelihood. "
   ]
  },
  {
   "cell_type": "markdown",
   "id": "69e37d4e-094b-446b-8d5b-e87a1726ff15",
   "metadata": {},
   "source": [
    "When we try to optimize values using gradient descent\n",
    "\n",
    "(Ŷ=1/1+ e-z),"
   ]
  },
  {
   "cell_type": "markdown",
   "id": "efa46541-080d-4782-a1b0-19991ac94498",
   "metadata": {},
   "source": [
    "Q3. Explain the concept of regularization in logistic regression and how it helps prevent overfitting."
   ]
  },
  {
   "cell_type": "markdown",
   "id": "36388f8a-fce9-4946-bdb7-a841e497f2d7",
   "metadata": {},
   "source": [
    "Regularization is any modification we make to a learning algorithm that is intended to reduce its generalization error but not its training error"
   ]
  },
  {
   "cell_type": "markdown",
   "id": "eb1116fa-ccdd-448e-be06-9b848a673f30",
   "metadata": {},
   "source": [
    "it tunes the loss function by adding a penalty term, that prevents excessive fluctuation of the coefficients."
   ]
  },
  {
   "cell_type": "markdown",
   "id": "cca6f247-303a-4d26-b23a-ebbb5e9c3f54",
   "metadata": {},
   "source": [
    "Q4. What is the ROC curve, and how is it used to evaluate the performance of the logistic regression\n",
    "model?"
   ]
  },
  {
   "cell_type": "markdown",
   "id": "7ace9040-749c-427f-a27e-6f81b1129c3c",
   "metadata": {},
   "source": [
    "ROC curves in logistic regression are used for determining the best cutoff value for predicting whether a new observation is a \"failure\" (0) or a \"success\" (1)"
   ]
  },
  {
   "cell_type": "markdown",
   "id": "07532108-75d2-4416-861f-7f5f285412ac",
   "metadata": {},
   "source": [
    "Q5. What are some common techniques for feature selection in logistic regression? How do these\n",
    "techniques help improve the model's performance?"
   ]
  },
  {
   "cell_type": "markdown",
   "id": "7a794a77-d4ad-49d7-a962-2f075df02df3",
   "metadata": {},
   "source": [
    "We did feature selection by using the Lasso regression and Ridge regression , they hepls us to reduce some feature that not good for our model assuracy."
   ]
  },
  {
   "cell_type": "markdown",
   "id": "0e37a8ec-0ee3-45d3-a247-38f1756edbd5",
   "metadata": {},
   "source": [
    "Q6. How can you handle imbalanced datasets in logistic regression? What are some strategies for dealing\n",
    "with class imbalance?"
   ]
  },
  {
   "cell_type": "markdown",
   "id": "e7a15094-1124-4df4-92d8-26843aeb55b7",
   "metadata": {},
   "source": [
    "__Handle__ imbalanced datasets in logistic regression by using oversampling , Undersampling , Synthetic Minority Over-sampling Technique (SMOTE) and if any null value is given than fill the null value with mean , median , mode of that column but is depend upon the dataset what type of methods are used to fill the null value or missing values."
   ]
  },
  {
   "cell_type": "markdown",
   "id": "41a396bc-9ae6-4637-845c-a07109a983b8",
   "metadata": {},
   "source": [
    "Q7. Can you discuss some common issues and challenges that may arise when implementing logistic\n",
    "regression, and how they can be addressed? For example, what can be done if there is multicollinearity\n",
    "among the independent variables?"
   ]
  },
  {
   "cell_type": "markdown",
   "id": "4801eef7-963a-4d56-b383-7f51457d7bed",
   "metadata": {},
   "source": [
    "Some common challenges that may arise when we implementing logistic regression\n",
    "\n",
    "- Overfitting : Solution = Regularization techniques such as L1 or L2 regularization can be employed to reduce overfitting\n",
    "- Multicollinearity = Multicollinearity can be addressed by identifying and removing highly correlated predictors\n",
    "- Non_linearity\n"
   ]
  }
 ],
 "metadata": {
  "kernelspec": {
   "display_name": "Python 3 (ipykernel)",
   "language": "python",
   "name": "python3"
  },
  "language_info": {
   "codemirror_mode": {
    "name": "ipython",
    "version": 3
   },
   "file_extension": ".py",
   "mimetype": "text/x-python",
   "name": "python",
   "nbconvert_exporter": "python",
   "pygments_lexer": "ipython3",
   "version": "3.10.8"
  }
 },
 "nbformat": 4,
 "nbformat_minor": 5
}
